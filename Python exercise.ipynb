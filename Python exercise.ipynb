{
 "cells": [
  {
   "cell_type": "code",
   "execution_count": 1,
   "id": "7ef85e39",
   "metadata": {},
   "outputs": [],
   "source": [
    "#importing libraries\n",
    "import numpy as np\n",
    "import pandas as pd"
   ]
  },
  {
   "cell_type": "markdown",
   "id": "72c7fa15",
   "metadata": {},
   "source": [
    "## ques 1 - You are having an array of 5s and 7s. Modify the array to arrange 5s on left side and 7s on right side of the array. \n",
    "### input - 57555775 \n",
    "### output- 55555777 "
   ]
  },
  {
   "cell_type": "code",
   "execution_count": 2,
   "id": "a2936c11",
   "metadata": {},
   "outputs": [
    {
     "data": {
      "text/plain": [
       "array([5, 5, 5, 5, 5, 7, 7, 7])"
      ]
     },
     "execution_count": 2,
     "metadata": {},
     "output_type": "execute_result"
    }
   ],
   "source": [
    "arr = [5,7,5,5,5,7,7,5]\n",
    "np.sort(arr)"
   ]
  },
  {
   "cell_type": "code",
   "execution_count": 3,
   "id": "c8e44b86",
   "metadata": {},
   "outputs": [
    {
     "name": "stdout",
     "output_type": "stream",
     "text": [
      "Before arranging: [5, 7, 5, 7, 5, 5, 7, 7, 5, 5]\n",
      "After arranging: [5, 5, 5, 5, 5, 5, 7, 7, 7, 7]\n"
     ]
    }
   ],
   "source": [
    "def arrange_array(arr):\n",
    "    left = 0\n",
    "    right = len(arr) - 1\n",
    "    \n",
    "    while left < right:\n",
    "        while arr[left] == 5 and left < right:\n",
    "            left += 1\n",
    "        while arr[right] == 7 and left < right:\n",
    "            right -= 1\n",
    "        \n",
    "        if left < right:\n",
    "            arr[left], arr[right] = arr[right], arr[left]\n",
    "            left += 1\n",
    "            right -= 1\n",
    "\n",
    "arr = [5, 7, 5, 7, 5, 5, 7, 7, 5, 5]\n",
    "\n",
    "print(\"Before arranging:\", arr)\n",
    "arrange_array(arr)\n",
    "print(\"After arranging:\", arr)\n"
   ]
  },
  {
   "cell_type": "markdown",
   "id": "19d15221",
   "metadata": {},
   "source": [
    "## ques 2 - reverse the numerical array without changing the position of characters.\n",
    "### input -  [1,2,A,8,G,3,X,M,9] \n",
    "### output-  [9,3,A,8,G,2,X,M,1] "
   ]
  },
  {
   "cell_type": "code",
   "execution_count": 4,
   "id": "2ea4a480",
   "metadata": {},
   "outputs": [
    {
     "name": "stdout",
     "output_type": "stream",
     "text": [
      "Input array: [1, 2, 'A', 8, 'G', 3, 'X', 'M', 9]\n",
      "Output array: [9, 3, 'A', 8, 'G', 2, 'X', 'M', 1]\n"
     ]
    }
   ],
   "source": [
    "def reverse_numerical_array(arr):\n",
    "    numerical_elements = [item for item in arr if isinstance(item, int)]\n",
    "    numerical_elements.reverse()\n",
    "    \n",
    "    result = []\n",
    "    num_index = 0\n",
    "    \n",
    "    for item in arr:\n",
    "        if isinstance(item, int):\n",
    "            result.append(numerical_elements[num_index])\n",
    "            num_index += 1\n",
    "        else:\n",
    "            result.append(item)\n",
    "    \n",
    "    return result\n",
    "\n",
    "input_array = [1, 2, 'A', 8, 'G', 3, 'X', 'M', 9]\n",
    "\n",
    "output_array = reverse_numerical_array(input_array)\n",
    "print(\"Input array:\", input_array)\n",
    "print(\"Output array:\", output_array)\n"
   ]
  },
  {
   "cell_type": "markdown",
   "id": "4a90ad5d",
   "metadata": {},
   "source": [
    "## ques 3 - Reverse the whole string without reversing the individual words in it. Words are separated by exclamation mark.\n",
    "\n",
    "### input -  I!am!a!coder\n",
    "### output-  coder!a!am!I"
   ]
  },
  {
   "cell_type": "code",
   "execution_count": 5,
   "id": "e29d90d6",
   "metadata": {},
   "outputs": [
    {
     "name": "stdout",
     "output_type": "stream",
     "text": [
      "Input string: I!am!a!coder\n",
      "Output string: coder!a!am!I\n"
     ]
    }
   ],
   "source": [
    "def reverse_string_without_words_reversal(input_string):\n",
    "    words = input_string.split('!')\n",
    "    words.reverse()\n",
    "    reversed_string = '!'.join(words)\n",
    "    return reversed_string\n",
    "\n",
    "input_string = \"I!am!a!coder\"\n",
    "\n",
    "output_string = reverse_string_without_words_reversal(input_string)\n",
    "print(\"Input string:\", input_string)\n",
    "print(\"Output string:\", output_string)\n"
   ]
  },
  {
   "cell_type": "markdown",
   "id": "b720fb7a",
   "metadata": {},
   "source": [
    "## ques 4 - Given an array A[] of N positive integers which can contain integers from 0 to N where elements can be repeated or can be absent from the array.\n",
    "\n",
    "## Your task is to count frequency of all elements from 1 to N. \n",
    "\n",
    "### input- 2033445 \n",
    "### output- 01221 "
   ]
  },
  {
   "cell_type": "code",
   "execution_count": 6,
   "id": "38b35136",
   "metadata": {},
   "outputs": [
    {
     "name": "stdout",
     "output_type": "stream",
     "text": [
      "Input array: [2, 0, 3, 3, 4, 5]\n",
      "Output string: 01211\n"
     ]
    }
   ],
   "source": [
    "def count_frequency(input_array, N):\n",
    "    freq = [0] * (N + 1)\n",
    "    \n",
    "    for x in input_array:\n",
    "        if 1 <= x <= N:\n",
    "            freq[x] += 1\n",
    "    \n",
    "    frequency_string = ''.join(str(freq[i]) for i in range(1, N + 1))\n",
    "    \n",
    "    return frequency_string\n",
    "\n",
    "input_array = [2, 0, 3, 3, 4, 5]\n",
    "N = 5\n",
    "\n",
    "output_string = count_frequency(input_array, N)\n",
    "print(\"Input array:\", input_array)\n",
    "print(\"Output string:\", output_string)\n"
   ]
  },
  {
   "cell_type": "markdown",
   "id": "813bc440",
   "metadata": {},
   "source": [
    "## ques 5 - Given an array arr[] and a number K where K is smaller than size of array, the task is to find the Kth smallest element in the given array.It is given that all array elements are distinct. 761245\n",
    "### input - k=3\n",
    "### output- 4"
   ]
  },
  {
   "cell_type": "code",
   "execution_count": 7,
   "id": "586f5737",
   "metadata": {},
   "outputs": [
    {
     "name": "stdout",
     "output_type": "stream",
     "text": [
      "Kth smallest element: 4\n"
     ]
    }
   ],
   "source": [
    "def partition(arr, low, high):\n",
    "    pivot = arr[high]\n",
    "    i = low - 1\n",
    "    \n",
    "    for j in range(low, high):\n",
    "        if arr[j] <= pivot:\n",
    "            i += 1\n",
    "            arr[i], arr[j] = arr[j], arr[i]\n",
    "    \n",
    "    arr[i + 1], arr[high] = arr[high], arr[i + 1]\n",
    "    return i + 1\n",
    "\n",
    "def quick_select(arr, low, high, k):\n",
    "    if low <= high:\n",
    "        pivot_index = partition(arr, low, high)\n",
    "        \n",
    "        if pivot_index == k:\n",
    "            return arr[pivot_index]\n",
    "        elif pivot_index < k:\n",
    "            return quick_select(arr, pivot_index + 1, high, k)\n",
    "        else:\n",
    "            return quick_select(arr, low, pivot_index - 1, k)\n",
    "\n",
    "def kth_smallest_element(arr, k):\n",
    "    return quick_select(arr, 0, len(arr) - 1, k - 1)\n",
    "\n",
    "arr = [7, 6, 1, 2, 4, 5]\n",
    "k = 3\n",
    "\n",
    "kth_smallest = kth_smallest_element(arr, k)\n",
    "print(\"Kth smallest element:\", kth_smallest)\n"
   ]
  },
  {
   "cell_type": "markdown",
   "id": "26c9277c",
   "metadata": {},
   "source": [
    "## ques 6- Write a Python function called \"sort_dictionary_by_value\" that takes a dictionary as input and returns a new dictionary where the keys are the original dictionary keys sorted by their corresponding values in ascending order.\n",
    "\n",
    "### Input: {'a': 4, 'b': 2, 'c': 6, 'd': 1}\n",
    "### Output: {'d': 1, 'b': 2, 'a': 4, 'c': 6}"
   ]
  },
  {
   "cell_type": "code",
   "execution_count": 8,
   "id": "b4e27055",
   "metadata": {},
   "outputs": [
    {
     "name": "stdout",
     "output_type": "stream",
     "text": [
      "Input dictionary: {'apple': 3, 'banana': 1, 'cherry': 5, 'date': 2}\n",
      "Sorted dictionary by value: {'banana': 1, 'date': 2, 'apple': 3, 'cherry': 5}\n"
     ]
    }
   ],
   "source": [
    "def sort_dictionary_by_value(input_dict):\n",
    "    sorted_keys = sorted(input_dict.keys(), key=lambda k: input_dict[k])\n",
    "    sorted_dict = {key: input_dict[key] for key in sorted_keys}\n",
    "    return sorted_dict\n",
    "\n",
    "# Example input dictionary\n",
    "input_dict = {'apple': 3, 'banana': 1, 'cherry': 5, 'date': 2}\n",
    "\n",
    "sorted_dict = sort_dictionary_by_value(input_dict)\n",
    "print(\"Input dictionary:\", input_dict)\n",
    "print(\"Sorted dictionary by value:\", sorted_dict)\n"
   ]
  },
  {
   "cell_type": "markdown",
   "id": "83b497ce",
   "metadata": {},
   "source": [
    "## Ques 7- Write a Python function called \"invert_dictionary\" that takes a dictionary as input and returns a new dictionary where the keys and values are swapped. \n",
    "\n",
    "### Input: {'a': 1, 'b': 2, 'c': 3} \n",
    "### Output: {1: 'a', 2: 'b', 3: 'c'} \n",
    " "
   ]
  },
  {
   "cell_type": "code",
   "execution_count": 9,
   "id": "0f4f7a88",
   "metadata": {},
   "outputs": [
    {
     "name": "stdout",
     "output_type": "stream",
     "text": [
      "Input dictionary: {'a': 1, 'b': 2, 'c': 3}\n",
      "Inverted dictionary: {1: 'a', 2: 'b', 3: 'c'}\n"
     ]
    }
   ],
   "source": [
    "def invert_dictionary(input_dict):\n",
    "    inverted_dict = {value: key for key, value in input_dict.items()}\n",
    "    return inverted_dict\n",
    "\n",
    "input_dict = {'a': 1, 'b': 2, 'c': 3}\n",
    "\n",
    "inverted_dict = invert_dictionary(input_dict)\n",
    "print(\"Input dictionary:\", input_dict)\n",
    "print(\"Inverted dictionary:\", inverted_dict)\n"
   ]
  },
  {
   "cell_type": "code",
   "execution_count": null,
   "id": "7fe83969",
   "metadata": {},
   "outputs": [],
   "source": []
  },
  {
   "cell_type": "code",
   "execution_count": null,
   "id": "2aab8f94",
   "metadata": {},
   "outputs": [],
   "source": []
  }
 ],
 "metadata": {
  "kernelspec": {
   "display_name": "Python 3 (ipykernel)",
   "language": "python",
   "name": "python3"
  },
  "language_info": {
   "codemirror_mode": {
    "name": "ipython",
    "version": 3
   },
   "file_extension": ".py",
   "mimetype": "text/x-python",
   "name": "python",
   "nbconvert_exporter": "python",
   "pygments_lexer": "ipython3",
   "version": "3.10.9"
  }
 },
 "nbformat": 4,
 "nbformat_minor": 5
}
